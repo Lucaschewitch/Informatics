{
  "nbformat": 4,
  "nbformat_minor": 0,
  "metadata": {
    "colab": {
      "provenance": [],
      "authorship_tag": "ABX9TyMxasyCrMB+R3tPY6E3Ykpn",
      "include_colab_link": true
    },
    "kernelspec": {
      "name": "python3",
      "display_name": "Python 3"
    },
    "language_info": {
      "name": "python"
    }
  },
  "cells": [
    {
      "cell_type": "markdown",
      "metadata": {
        "id": "view-in-github",
        "colab_type": "text"
      },
      "source": [
        "<a href=\"https://colab.research.google.com/github/Lucaschewitch/Informatics/blob/main/Task_3/%D0%BD%D0%B8%D1%87%D0%B5%D0%B3%D0%BE.ipynb\" target=\"_parent\"><img src=\"https://colab.research.google.com/assets/colab-badge.svg\" alt=\"Open In Colab\"/></a>"
      ]
    },
    {
      "cell_type": "markdown",
      "source": [
        "Что вершит судьбу человечества в этом мире? Некое незримое существо или закон? Подобно Длани Господней парящей над миром. По крайней мере, истина лишь в том что человек не властен даже над своей волей."
      ],
      "metadata": {
        "id": "Gy7YdQwXzCFG"
      }
    }
  ]
}